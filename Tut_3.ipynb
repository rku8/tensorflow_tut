{
 "cells": [
  {
   "cell_type": "code",
   "execution_count": 66,
   "id": "fbf0a898",
   "metadata": {},
   "outputs": [],
   "source": [
    "## From neural networks"
   ]
  },
  {
   "cell_type": "code",
   "execution_count": 91,
   "id": "84ab1124",
   "metadata": {},
   "outputs": [],
   "source": [
    "import tensorflow as tf\n",
    "# from tensorflow import keras\n",
    "\n",
    "# Helper libraries\n",
    "import numpy as np\n",
    "import matplotlib.pyplot as plt\n",
    "from IPython.display import clear_output"
   ]
  },
  {
   "cell_type": "code",
   "execution_count": 3,
   "id": "f9ad6b59",
   "metadata": {},
   "outputs": [],
   "source": [
    "### MNIST Fashion Dataset"
   ]
  },
  {
   "cell_type": "code",
   "execution_count": 46,
   "id": "d801fafc",
   "metadata": {},
   "outputs": [],
   "source": [
    "fashion_mnist = tf.keras.datasets.fashion_mnist  # load dataset\n",
    "\n",
    "(train_images, train_labels), (test_images, test_labels) = fashion_mnist.load_data()  # split into tetsing and training"
   ]
  },
  {
   "cell_type": "code",
   "execution_count": 10,
   "id": "3d50ddfb",
   "metadata": {},
   "outputs": [
    {
     "name": "stdout",
     "output_type": "stream",
     "text": [
      "The shape of train dataset: (60000, 28, 28)\n"
     ]
    }
   ],
   "source": [
    "print(f\"The shape of train dataset: {train_images.shape}\")"
   ]
  },
  {
   "cell_type": "code",
   "execution_count": 17,
   "id": "e63af467",
   "metadata": {},
   "outputs": [
    {
     "name": "stdout",
     "output_type": "stream",
     "text": [
      "Total images of train dataset: 60000\n",
      "Shape of images: (28, 28)\n"
     ]
    }
   ],
   "source": [
    "print(f\"Total images of train dataset: {train_images.shape[0]}\")\n",
    "print(f\"Shape of images: {train_images.shape[1:]}\")"
   ]
  },
  {
   "cell_type": "code",
   "execution_count": 25,
   "id": "67aec8d6",
   "metadata": {},
   "outputs": [
    {
     "data": {
      "text/plain": [
       "99"
      ]
     },
     "execution_count": 25,
     "metadata": {},
     "output_type": "execute_result"
    }
   ],
   "source": [
    "train_images[0,24,24] # let's have a look at one pixel"
   ]
  },
  {
   "cell_type": "code",
   "execution_count": 27,
   "id": "ba7e676b",
   "metadata": {},
   "outputs": [
    {
     "data": {
      "text/plain": [
       "array([9, 0, 0, 3, 0, 2, 7, 2, 5, 5, 0, 9, 5, 5, 7], dtype=uint8)"
      ]
     },
     "execution_count": 27,
     "metadata": {},
     "output_type": "execute_result"
    }
   ],
   "source": [
    "train_labels[:15] # First 15 training labels"
   ]
  },
  {
   "cell_type": "code",
   "execution_count": 28,
   "id": "09b14de8",
   "metadata": {},
   "outputs": [],
   "source": [
    "class_names = ['T-shirt/top', 'Trouser', 'Pullover', 'Dress', 'Coat',\n",
    "               'Sandal', 'Shirt', 'Sneaker', 'Bag', 'Ankle boot']"
   ]
  },
  {
   "cell_type": "code",
   "execution_count": 43,
   "id": "ebc20028",
   "metadata": {},
   "outputs": [
    {
     "data": {
      "text/plain": [
       "array([[  0,   0,   0,   0,   0,   1,   0,   0,   0,   0,  41, 188, 103,\n",
       "         54,  48,  43,  87, 168, 133,  16,   0,   0,   0,   0,   0,   0,\n",
       "          0,   0],\n",
       "       [  0,   0,   0,   1,   0,   0,   0,  49, 136, 219, 216, 228, 236,\n",
       "        255, 255, 255, 255, 217, 215, 254, 231, 160,  45,   0,   0,   0,\n",
       "          0,   0],\n",
       "       [  0,   0,   0,   0,   0,  14, 176, 222, 224, 212, 203, 198, 196,\n",
       "        200, 215, 204, 202, 201, 201, 201, 209, 218, 224, 164,   0,   0,\n",
       "          0,   0],\n",
       "       [  0,   0,   0,   0,   0, 188, 219, 200, 198, 202, 198, 199, 199,\n",
       "        201, 196, 198, 198, 200, 200, 200, 200, 201, 200, 225,  41,   0,\n",
       "          0,   0],\n",
       "       [  0,   0,   0,   0,  51, 219, 199, 203, 203, 212, 238, 248, 250,\n",
       "        245, 249, 246, 247, 252, 248, 235, 207, 203, 203, 222, 140,   0,\n",
       "          0,   0],\n",
       "       [  0,   0,   0,   0, 116, 226, 206, 204, 207, 204, 101,  75,  47,\n",
       "         73,  48,  50,  45,  51,  63, 113, 222, 202, 206, 220, 224,   0,\n",
       "          0,   0],\n",
       "       [  0,   0,   0,   0, 200, 222, 209, 203, 215, 200,   0,  70,  98,\n",
       "          0, 103,  59,  68,  71,  49,   0, 219, 206, 214, 210, 250,  38,\n",
       "          0,   0],\n",
       "       [  0,   0,   0,   0, 247, 218, 212, 210, 215, 214,   0, 254, 243,\n",
       "        139, 255, 174, 251, 255, 205,   0, 215, 217, 214, 208, 220,  95,\n",
       "          0,   0],\n",
       "       [  0,   0,   0,  45, 226, 214, 214, 215, 224, 205,   0,  42,  35,\n",
       "         60,  16,  17,  12,  13,  70,   0, 189, 216, 212, 206, 212, 156,\n",
       "          0,   0],\n",
       "       [  0,   0,   0, 164, 235, 214, 211, 220, 216, 201,  52,  71,  89,\n",
       "         94,  83,  78,  70,  76,  92,  87, 206, 207, 222, 213, 219, 208,\n",
       "          0,   0],\n",
       "       [  0,   0,   0, 106, 187, 223, 237, 248, 211, 198, 252, 250, 248,\n",
       "        245, 248, 252, 253, 250, 252, 239, 201, 212, 225, 215, 193, 113,\n",
       "          0,   0],\n",
       "       [  0,   0,   0,   0,   0,  17,  54, 159, 222, 193, 208, 192, 197,\n",
       "        200, 200, 200, 200, 201, 203, 195, 210, 165,   0,   0,   0,   0,\n",
       "          0,   0],\n",
       "       [  0,   0,   0,   0,   0,   0,   0,  47, 225, 192, 214, 203, 206,\n",
       "        204, 204, 205, 206, 204, 212, 197, 218, 107,   0,   0,   0,   0,\n",
       "          0,   0],\n",
       "       [  0,   0,   0,   0,   1,   6,   0,  46, 212, 195, 212, 202, 206,\n",
       "        205, 204, 205, 206, 204, 212, 200, 218,  91,   0,   3,   1,   0,\n",
       "          0,   0],\n",
       "       [  0,   0,   0,   0,   0,   1,   0,  11, 197, 199, 205, 202, 205,\n",
       "        206, 204, 205, 207, 204, 205, 205, 218,  77,   0,   5,   0,   0,\n",
       "          0,   0],\n",
       "       [  0,   0,   0,   0,   0,   3,   0,   2, 191, 198, 201, 205, 206,\n",
       "        205, 205, 206, 209, 206, 199, 209, 219,  74,   0,   5,   0,   0,\n",
       "          0,   0],\n",
       "       [  0,   0,   0,   0,   0,   2,   0,   0, 188, 197, 200, 207, 207,\n",
       "        204, 207, 207, 210, 208, 198, 207, 221,  72,   0,   4,   0,   0,\n",
       "          0,   0],\n",
       "       [  0,   0,   0,   0,   0,   2,   0,   0, 215, 198, 203, 206, 208,\n",
       "        205, 207, 207, 210, 208, 200, 202, 222,  75,   0,   4,   0,   0,\n",
       "          0,   0],\n",
       "       [  0,   0,   0,   0,   0,   1,   0,   0, 212, 198, 209, 206, 209,\n",
       "        206, 208, 207, 211, 206, 205, 198, 221,  80,   0,   3,   0,   0,\n",
       "          0,   0],\n",
       "       [  0,   0,   0,   0,   0,   1,   0,   0, 204, 201, 205, 208, 207,\n",
       "        205, 211, 205, 210, 210, 209, 195, 221,  96,   0,   3,   0,   0,\n",
       "          0,   0],\n",
       "       [  0,   0,   0,   0,   0,   1,   0,   0, 202, 201, 205, 209, 207,\n",
       "        205, 213, 206, 210, 209, 210, 194, 217, 105,   0,   2,   0,   0,\n",
       "          0,   0],\n",
       "       [  0,   0,   0,   0,   0,   1,   0,   0, 204, 204, 205, 208, 207,\n",
       "        205, 215, 207, 210, 208, 211, 193, 213, 115,   0,   2,   0,   0,\n",
       "          0,   0],\n",
       "       [  0,   0,   0,   0,   0,   0,   0,   0, 204, 207, 207, 208, 206,\n",
       "        206, 215, 210, 210, 207, 212, 195, 210, 118,   0,   2,   0,   0,\n",
       "          0,   0],\n",
       "       [  0,   0,   0,   0,   0,   1,   0,   0, 198, 208, 208, 208, 204,\n",
       "        207, 212, 212, 210, 207, 211, 196, 207, 121,   0,   1,   0,   0,\n",
       "          0,   0],\n",
       "       [  0,   0,   0,   0,   0,   1,   0,   0, 198, 210, 207, 208, 206,\n",
       "        209, 213, 212, 211, 207, 210, 197, 207, 124,   0,   1,   0,   0,\n",
       "          0,   0],\n",
       "       [  0,   0,   0,   0,   0,   0,   0,   0, 172, 210, 203, 201, 199,\n",
       "        204, 207, 205, 204, 201, 205, 197, 206, 127,   0,   0,   0,   0,\n",
       "          0,   0],\n",
       "       [  0,   0,   0,   0,   0,   0,   0,   0, 188, 221, 214, 234, 236,\n",
       "        238, 244, 244, 244, 240, 243, 214, 224, 162,   0,   2,   0,   0,\n",
       "          0,   0],\n",
       "       [  0,   0,   0,   0,   0,   1,   0,   0, 139, 146, 130, 135, 135,\n",
       "        137, 125, 124, 125, 121, 119, 114, 130,  76,   0,   0,   0,   0,\n",
       "          0,   0]], dtype=uint8)"
      ]
     },
     "execution_count": 43,
     "metadata": {},
     "output_type": "execute_result"
    }
   ],
   "source": [
    "train_images[1]"
   ]
  },
  {
   "cell_type": "code",
   "execution_count": 44,
   "id": "774ac940",
   "metadata": {},
   "outputs": [
    {
     "data": {
      "image/png": "[encoded data removed]",
      "text/plain": [
       "<Figure size 640x480 with 2 Axes>"
      ]
     },
     "metadata": {},
     "output_type": "display_data"
    }
   ],
   "source": [
    "# Making image fom the given arrays\n",
    "plt.figure()\n",
    "plt.imshow(train_images[1])\n",
    "plt.colorbar()\n",
    "plt.grid(False)\n",
    "plt.show()"
   ]
  },
  {
   "cell_type": "code",
   "execution_count": 47,
   "id": "65a0c27b",
   "metadata": {},
   "outputs": [],
   "source": [
    "train_images = train_images / 255.0\n",
    "\n",
    "test_images = test_images / 255.0"
   ]
  },
  {
   "cell_type": "markdown",
   "id": "10e782a2",
   "metadata": {},
   "source": [
    "### Building the model"
   ]
  },
  {
   "cell_type": "code",
   "execution_count": 53,
   "id": "a5d63160",
   "metadata": {},
   "outputs": [],
   "source": [
    "from tensorflow.keras.layers import Flatten, Dense\n",
    "from tensorflow.keras import Sequential"
   ]
  },
  {
   "cell_type": "code",
   "execution_count": 56,
   "id": "b98c9f71",
   "metadata": {},
   "outputs": [],
   "source": [
    "model = Sequential([\n",
    "    Flatten(input_shape=(28, 28)),  # input layer (1)\n",
    "    Dense(units=128, activation='relu'),  # hidden layer (2)\n",
    "    Dense(units=10, activation='softmax') # output layer (3)\n",
    "])"
   ]
  },
  {
   "cell_type": "markdown",
   "id": "943ae0aa",
   "metadata": {},
   "source": [
    "### Compile the model"
   ]
  },
  {
   "cell_type": "code",
   "execution_count": 57,
   "id": "bb825c8b",
   "metadata": {},
   "outputs": [],
   "source": [
    "model.compile(optimizer='adam',\n",
    "              loss='sparse_categorical_crossentropy',\n",
    "              metrics=['accuracy'])"
   ]
  },
  {
   "cell_type": "markdown",
   "id": "df0baf89",
   "metadata": {},
   "source": [
    "### Training the model"
   ]
  },
  {
   "cell_type": "code",
   "execution_count": 58,
   "id": "a630e529",
   "metadata": {},
   "outputs": [
    {
     "name": "stdout",
     "output_type": "stream",
     "text": [
      "Epoch 1/25\n",
      "1875/1875 [==============================] - 17s 8ms/step - loss: 0.5000 - accuracy: 0.8267\n",
      "Epoch 2/25\n",
      "1875/1875 [==============================] - 14s 7ms/step - loss: 0.3778 - accuracy: 0.8642\n",
      "Epoch 3/25\n",
      "1875/1875 [==============================] - 14s 7ms/step - loss: 0.3378 - accuracy: 0.8765\n",
      "Epoch 4/25\n",
      "1875/1875 [==============================] - 15s 8ms/step - loss: 0.3119 - accuracy: 0.8864\n",
      "Epoch 5/25\n",
      "1875/1875 [==============================] - 16s 8ms/step - loss: 0.2955 - accuracy: 0.8915\n",
      "Epoch 6/25\n",
      "1875/1875 [==============================] - 14s 7ms/step - loss: 0.2811 - accuracy: 0.8973\n",
      "Epoch 7/25\n",
      "1875/1875 [==============================] - 15s 8ms/step - loss: 0.2693 - accuracy: 0.8994\n",
      "Epoch 8/25\n",
      "1875/1875 [==============================] - 14s 7ms/step - loss: 0.2582 - accuracy: 0.9045\n",
      "Epoch 9/25\n",
      "1875/1875 [==============================] - 19s 10ms/step - loss: 0.2474 - accuracy: 0.9078\n",
      "Epoch 10/25\n",
      "1875/1875 [==============================] - 15s 8ms/step - loss: 0.2397 - accuracy: 0.9099\n",
      "Epoch 11/25\n",
      "1875/1875 [==============================] - 16s 8ms/step - loss: 0.2321 - accuracy: 0.9133\n",
      "Epoch 12/25\n",
      "1875/1875 [==============================] - 14s 7ms/step - loss: 0.2228 - accuracy: 0.9170\n",
      "Epoch 13/25\n",
      "1875/1875 [==============================] - 14s 7ms/step - loss: 0.2173 - accuracy: 0.9178\n",
      "Epoch 14/25\n",
      "1875/1875 [==============================] - 15s 8ms/step - loss: 0.2114 - accuracy: 0.9205\n",
      "Epoch 15/25\n",
      "1875/1875 [==============================] - 12s 6ms/step - loss: 0.2048 - accuracy: 0.9233\n",
      "Epoch 16/25\n",
      "1875/1875 [==============================] - 14s 7ms/step - loss: 0.1976 - accuracy: 0.9258\n",
      "Epoch 17/25\n",
      "1875/1875 [==============================] - 15s 8ms/step - loss: 0.1923 - accuracy: 0.9280\n",
      "Epoch 18/25\n",
      "1875/1875 [==============================] - 14s 8ms/step - loss: 0.1871 - accuracy: 0.9290\n",
      "Epoch 19/25\n",
      "1875/1875 [==============================] - 11s 6ms/step - loss: 0.1827 - accuracy: 0.9304\n",
      "Epoch 20/25\n",
      "1875/1875 [==============================] - 13s 7ms/step - loss: 0.1778 - accuracy: 0.9339\n",
      "Epoch 21/25\n",
      "1875/1875 [==============================] - 15s 8ms/step - loss: 0.1696 - accuracy: 0.9359\n",
      "Epoch 22/25\n",
      "1875/1875 [==============================] - 15s 8ms/step - loss: 0.1694 - accuracy: 0.9366\n",
      "Epoch 23/25\n",
      "1875/1875 [==============================] - 15s 8ms/step - loss: 0.1632 - accuracy: 0.9382\n",
      "Epoch 24/25\n",
      "1875/1875 [==============================] - 13s 7ms/step - loss: 0.1614 - accuracy: 0.9385\n",
      "Epoch 25/25\n",
      "1875/1875 [==============================] - 15s 8ms/step - loss: 0.1579 - accuracy: 0.9402\n"
     ]
    },
    {
     "data": {
      "text/plain": [
       "<keras.src.callbacks.History at 0x168f7bd6f20>"
      ]
     },
     "execution_count": 58,
     "metadata": {},
     "output_type": "execute_result"
    }
   ],
   "source": [
    "model.fit(train_images, train_labels, epochs=25)  "
   ]
  },
  {
   "cell_type": "markdown",
   "id": "9a5396cf",
   "metadata": {},
   "source": [
    "### Evaluation of the model"
   ]
  },
  {
   "cell_type": "code",
   "execution_count": 59,
   "id": "d12bb923",
   "metadata": {},
   "outputs": [
    {
     "name": "stdout",
     "output_type": "stream",
     "text": [
      "313/313 [==============================] - 2s 6ms/step - loss: 0.3876 - accuracy: 0.8845\n",
      "Test accuracy: 0.8845000267028809\n"
     ]
    }
   ],
   "source": [
    "test_loss, test_acc = model.evaluate(test_images,  test_labels, verbose=1)\n",
    "\n",
    "print('Test accuracy:', test_acc)"
   ]
  },
  {
   "cell_type": "markdown",
   "id": "d7866a74",
   "metadata": {},
   "source": [
    "### Making predictions"
   ]
  },
  {
   "cell_type": "code",
   "execution_count": 60,
   "id": "fc8f802e",
   "metadata": {},
   "outputs": [
    {
     "name": "stdout",
     "output_type": "stream",
     "text": [
      "313/313 [==============================] - 2s 4ms/step\n"
     ]
    }
   ],
   "source": [
    "predictions = model.predict(test_images)"
   ]
  },
  {
   "cell_type": "code",
   "execution_count": 61,
   "id": "2d560987",
   "metadata": {},
   "outputs": [
    {
     "data": {
      "text/plain": [
       "array([1.6711219e-12, 2.4274105e-18, 3.2491800e-12, 4.8568629e-21,\n",
       "       5.1185896e-14, 2.9832797e-06, 2.9352046e-12, 3.5224678e-06,\n",
       "       5.9656552e-16, 9.9999344e-01], dtype=float32)"
      ]
     },
     "execution_count": 61,
     "metadata": {},
     "output_type": "execute_result"
    }
   ],
   "source": [
    "predictions[0] # Prediction of the first image"
   ]
  },
  {
   "cell_type": "code",
   "execution_count": 65,
   "id": "7619f384",
   "metadata": {},
   "outputs": [
    {
     "name": "stdout",
     "output_type": "stream",
     "text": [
      "Predicted class: 9 \n",
      "Actual class 9\n"
     ]
    }
   ],
   "source": [
    "print(f\"Predicted class: {np.argmax(predictions[0])} \\nActual class {test_labels[0]}\") "
   ]
  },
  {
   "cell_type": "code",
   "execution_count": 121,
   "id": "dfab2b76",
   "metadata": {},
   "outputs": [],
   "source": [
    "def test_predict(index):\n",
    "    index=int(index)\n",
    "    image=test_images[index]\n",
    "    pred=model.predict(np.array([image]))\n",
    "    np.argmax(pred)\n",
    "    predicted_class=class_names[np.argmax(pred)]\n",
    "    clear_output()\n",
    "    print(f\"Predicted Class: {predicted_class}\")\n",
    "    print(f\"Actual Class: {class_names[test_labels[index]]}\")\n",
    "    plt.imshow(test_images[index])\n",
    "    plt.show()"
   ]
  },
  {
   "cell_type": "code",
   "execution_count": 122,
   "id": "20b513f6",
   "metadata": {},
   "outputs": [
    {
     "name": "stdout",
     "output_type": "stream",
     "text": [
      "Predicted Class: Shirt\n",
      "Actual Class: Shirt\n"
     ]
    },
    {
     "data": {
      "image/png": "[encoded data removed]",
      "text/plain": [
       "<Figure size 640x480 with 1 Axes>"
      ]
     },
     "metadata": {},
     "output_type": "display_data"
    }
   ],
   "source": [
    "test_predict(26)"
   ]
  },
  {
   "cell_type": "markdown",
   "id": "6a9e4c3e",
   "metadata": {},
   "source": [
    "End"
   ]
  }
 ],
 "metadata": {
  "kernelspec": {
   "display_name": "python_3.10",
   "language": "python",
   "name": "python_3.10"
  },
  "language_info": {
   "codemirror_mode": {
    "name": "ipython",
    "version": 3
   },
   "file_extension": ".py",
   "mimetype": "text/x-python",
   "name": "python",
   "nbconvert_exporter": "python",
   "pygments_lexer": "ipython3",
   "version": "3.10.11"
  }
 },
 "nbformat": 4,
 "nbformat_minor": 5
}
