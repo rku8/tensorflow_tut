{
 "cells": [
  {
   "cell_type": "code",
   "execution_count": 5,
   "id": "245604be",
   "metadata": {},
   "outputs": [],
   "source": [
    "## This notebook is based on the youtube channel https://www.youtube.com/watch?v=tPYj3fFJGjk&t=71s"
   ]
  },
  {
   "cell_type": "code",
   "execution_count": 1,
   "id": "e51e4a29",
   "metadata": {},
   "outputs": [],
   "source": [
    "import tensorflow as tf"
   ]
  },
  {
   "cell_type": "code",
   "execution_count": 2,
   "id": "7ac193ca",
   "metadata": {},
   "outputs": [
    {
     "name": "stdout",
     "output_type": "stream",
     "text": [
      "2.14.0\n"
     ]
    }
   ],
   "source": [
    "print(tf.__version__)"
   ]
  },
  {
   "cell_type": "code",
   "execution_count": 4,
   "id": "b84dc6f6",
   "metadata": {},
   "outputs": [],
   "source": [
    "# print(tf.version)"
   ]
  },
  {
   "cell_type": "markdown",
   "id": "6eacc364",
   "metadata": {},
   "source": [
    "## Data types"
   ]
  },
  {
   "cell_type": "code",
   "execution_count": 11,
   "id": "7a039302",
   "metadata": {},
   "outputs": [
    {
     "name": "stdout",
     "output_type": "stream",
     "text": [
      "<tf.Variable 'Variable:0' shape=() dtype=int32, numpy=123>\n",
      "tf.Tensor(125, shape=(), dtype=int32)\n"
     ]
    }
   ],
   "source": [
    "# integer\n",
    "value=tf.Variable(123, tf.int16)\n",
    "print(value)\n",
    "print(value+2) # mathematical operations are applied on it"
   ]
  },
  {
   "cell_type": "code",
   "execution_count": 13,
   "id": "2feb051a",
   "metadata": {},
   "outputs": [
    {
     "name": "stdout",
     "output_type": "stream",
     "text": [
      "<tf.Variable 'Variable:0' shape=() dtype=float32, numpy=45.025>\n"
     ]
    }
   ],
   "source": [
    "# float\n",
    "float_val=tf.Variable(45.025, tf.float16)\n",
    "print(float_val)"
   ]
  },
  {
   "cell_type": "code",
   "execution_count": 18,
   "id": "89ac1013",
   "metadata": {},
   "outputs": [
    {
     "name": "stdout",
     "output_type": "stream",
     "text": [
      "<tf.Variable 'Variable:0' shape=() dtype=string, numpy=b'Ravi Kumar'>\n"
     ]
    }
   ],
   "source": [
    "# string\n",
    "str_val=tf.Variable(\"Ravi Kumar\", tf.string)\n",
    "print(str_val)"
   ]
  },
  {
   "cell_type": "code",
   "execution_count": 19,
   "id": "12d82ad8",
   "metadata": {},
   "outputs": [],
   "source": [
    "string = tf.Variable(\"Ravi Kumar\", tf.string)\n",
    "number = tf.Variable(324, tf.int16)\n",
    "floating = tf.Variable(3.567, tf.float64)"
   ]
  },
  {
   "cell_type": "code",
   "execution_count": 23,
   "id": "31362db4",
   "metadata": {},
   "outputs": [
    {
     "name": "stdout",
     "output_type": "stream",
     "text": [
      "<tf.Variable 'Variable:0' shape=() dtype=string, numpy=b'Ravi Kumar'>\n",
      "<tf.Variable 'Variable:0' shape=() dtype=int32, numpy=324>\n",
      "<tf.Variable 'Variable:0' shape=() dtype=float32, numpy=3.567>\n"
     ]
    }
   ],
   "source": [
    "print(string)\n",
    "print(number)\n",
    "print(floating)"
   ]
  },
  {
   "cell_type": "code",
   "execution_count": 24,
   "id": "b6816de3",
   "metadata": {},
   "outputs": [],
   "source": [
    "# Above tensors are 0 degree/rank\n",
    "# Below we create more than 0 degree tensor"
   ]
  },
  {
   "cell_type": "markdown",
   "id": "da1d5436",
   "metadata": {},
   "source": [
    "## Rank/Degree of Tensor"
   ]
  },
  {
   "cell_type": "code",
   "execution_count": 25,
   "id": "f96afc6a",
   "metadata": {},
   "outputs": [],
   "source": [
    "rank1_tensor = tf.Variable([\"Test\"], tf.string)\n",
    "rank2_tensor = tf.Variable([[\"test\", \"ok\"], [\"test\", \"yes\"]], tf.string)"
   ]
  },
  {
   "cell_type": "code",
   "execution_count": 29,
   "id": "53c811ee",
   "metadata": {},
   "outputs": [
    {
     "data": {
      "text/plain": [
       "<tf.Tensor: shape=(), dtype=int32, numpy=2>"
      ]
     },
     "execution_count": 29,
     "metadata": {},
     "output_type": "execute_result"
    }
   ],
   "source": [
    "tf.rank(rank2_tensor)"
   ]
  },
  {
   "cell_type": "code",
   "execution_count": 30,
   "id": "3d407b82",
   "metadata": {},
   "outputs": [
    {
     "data": {
      "text/plain": [
       "TensorShape([2, 2])"
      ]
     },
     "execution_count": 30,
     "metadata": {},
     "output_type": "execute_result"
    }
   ],
   "source": [
    "rank2_tensor.shape"
   ]
  },
  {
   "cell_type": "markdown",
   "id": "ef1afff2",
   "metadata": {},
   "source": [
    "## Array and reshape "
   ]
  },
  {
   "cell_type": "code",
   "execution_count": 35,
   "id": "c626dbe4",
   "metadata": {},
   "outputs": [],
   "source": [
    "tensor1 = tf.ones([2,3,4])  # tf.ones() creates a shape [1,2,3] tensor full of ones\n",
    "tensor2 = tf.reshape(tensor1, [8,3,1])  \n",
    "tensor3 = tf.reshape(tensor2, [3, -1])  # -1 tells the tensor to calculate the size of the dimension in that place\n",
    "                                        \n",
    "# The nubmer of elements in the reshaped tensor MUST match the number in the original"
   ]
  },
  {
   "cell_type": "code",
   "execution_count": 42,
   "id": "6a059223",
   "metadata": {},
   "outputs": [
    {
     "name": "stdout",
     "output_type": "stream",
     "text": [
      "tf.Tensor(\n",
      "[[[1. 1. 1. 1.]\n",
      "  [1. 1. 1. 1.]\n",
      "  [1. 1. 1. 1.]]\n",
      "\n",
      " [[1. 1. 1. 1.]\n",
      "  [1. 1. 1. 1.]\n",
      "  [1. 1. 1. 1.]]], shape=(2, 3, 4), dtype=float32)\n",
      "tf.Tensor(\n",
      "[[[1.]\n",
      "  [1.]\n",
      "  [1.]]\n",
      "\n",
      " [[1.]\n",
      "  [1.]\n",
      "  [1.]]\n",
      "\n",
      " [[1.]\n",
      "  [1.]\n",
      "  [1.]]\n",
      "\n",
      " [[1.]\n",
      "  [1.]\n",
      "  [1.]]\n",
      "\n",
      " [[1.]\n",
      "  [1.]\n",
      "  [1.]]\n",
      "\n",
      " [[1.]\n",
      "  [1.]\n",
      "  [1.]]\n",
      "\n",
      " [[1.]\n",
      "  [1.]\n",
      "  [1.]]\n",
      "\n",
      " [[1.]\n",
      "  [1.]\n",
      "  [1.]]], shape=(8, 3, 1), dtype=float32)\n",
      "tf.Tensor(\n",
      "[[1. 1. 1. 1. 1. 1. 1. 1.]\n",
      " [1. 1. 1. 1. 1. 1. 1. 1.]\n",
      " [1. 1. 1. 1. 1. 1. 1. 1.]], shape=(3, 8), dtype=float32)\n"
     ]
    }
   ],
   "source": [
    "print(tensor1)\n",
    "print(tensor2)\n",
    "print(tensor3)"
   ]
  },
  {
   "cell_type": "code",
   "execution_count": 43,
   "id": "f0db51b0",
   "metadata": {},
   "outputs": [],
   "source": [
    "## Different types to print"
   ]
  },
  {
   "cell_type": "code",
   "execution_count": 46,
   "id": "a5723373",
   "metadata": {},
   "outputs": [
    {
     "name": "stdout",
     "output_type": "stream",
     "text": [
      "Tensor1: [[[1. 1. 1. 1.]\n",
      "  [1. 1. 1. 1.]\n",
      "  [1. 1. 1. 1.]]\n",
      "\n",
      " [[1. 1. 1. 1.]\n",
      "  [1. 1. 1. 1.]\n",
      "  [1. 1. 1. 1.]]]\n"
     ]
    }
   ],
   "source": [
    "print(f\"Tensor1: {tensor1}\")"
   ]
  },
  {
   "cell_type": "code",
   "execution_count": 47,
   "id": "669ac1b2",
   "metadata": {},
   "outputs": [
    {
     "name": "stdout",
     "output_type": "stream",
     "text": [
      "Tensor1: tf.Tensor(\n",
      "[[[1. 1. 1. 1.]\n",
      "  [1. 1. 1. 1.]\n",
      "  [1. 1. 1. 1.]]\n",
      "\n",
      " [[1. 1. 1. 1.]\n",
      "  [1. 1. 1. 1.]\n",
      "  [1. 1. 1. 1.]]], shape=(2, 3, 4), dtype=float32)\n"
     ]
    }
   ],
   "source": [
    "print(\"Tensor1:\",tensor1)"
   ]
  },
  {
   "cell_type": "markdown",
   "id": "ce29c2d0",
   "metadata": {},
   "source": [
    "## Define matrix and slicing"
   ]
  },
  {
   "cell_type": "code",
   "execution_count": 55,
   "id": "9a7e9879",
   "metadata": {},
   "outputs": [
    {
     "name": "stdout",
     "output_type": "stream",
     "text": [
      "<tf.Variable 'Variable:0' shape=(4, 5) dtype=int32, numpy=\n",
      "array([[ 1,  2,  3,  4,  5],\n",
      "       [ 6,  7,  8,  9, 10],\n",
      "       [11, 12, 13, 14, 15],\n",
      "       [16, 17, 18, 19, 20]])>\n"
     ]
    }
   ],
   "source": [
    "# Creating a 2D tensor\n",
    "matrix = [[1,2,3,4,5],\n",
    "          [6,7,8,9,10],\n",
    "          [11,12,13,14,15],\n",
    "          [16,17,18,19,20]]\n",
    "\n",
    "tensor = tf.Variable(matrix, dtype=tf.int32)\n",
    "print(tensor)"
   ]
  },
  {
   "cell_type": "code",
   "execution_count": 56,
   "id": "ec43dafd",
   "metadata": {},
   "outputs": [
    {
     "name": "stdout",
     "output_type": "stream",
     "text": [
      "tf.Tensor(2, shape=(), dtype=int32)\n",
      "(4, 5)\n"
     ]
    }
   ],
   "source": [
    "print(tf.rank(tensor))\n",
    "print(tensor.shape)"
   ]
  },
  {
   "cell_type": "code",
   "execution_count": 63,
   "id": "a6e19e07",
   "metadata": {},
   "outputs": [
    {
     "name": "stdout",
     "output_type": "stream",
     "text": [
      "Tensor:\n",
      "[[ 1  2  3  4  5]\n",
      " [ 6  7  8  9 10]\n",
      " [11 12 13 14 15]\n",
      " [16 17 18 19 20]]\n",
      "Rank of tensor: 2\n",
      "Shape of tensor: (4, 5)\n"
     ]
    }
   ],
   "source": [
    "## Better way of printing and readable\n",
    "print(f\"Tensor:\\n{tensor.read_value()}\")\n",
    "print(f\"Rank of tensor: {tf.rank(tensor)}\")\n",
    "print(f\"Shape of tensor: {tensor.shape}\")"
   ]
  },
  {
   "cell_type": "code",
   "execution_count": 65,
   "id": "da81809d",
   "metadata": {},
   "outputs": [
    {
     "name": "stdout",
     "output_type": "stream",
     "text": [
      "tf.Tensor(3, shape=(), dtype=int32)\n",
      "tf.Tensor([1 2 3 4 5], shape=(5,), dtype=int32)\n",
      "tf.Tensor([ 1  6 11 16], shape=(4,), dtype=int32)\n",
      "tf.Tensor(\n",
      "[[ 6  7  8  9 10]\n",
      " [16 17 18 19 20]], shape=(2, 5), dtype=int32)\n",
      "tf.Tensor([ 6 11], shape=(2,), dtype=int32)\n"
     ]
    }
   ],
   "source": [
    "# Now lets select some different rows and columns from our tensor\n",
    "\n",
    "three = tensor[0,2]  # selects the 3rd element from the 1st row\n",
    "print(three)  # -> 3\n",
    "\n",
    "row1 = tensor[0]  # selects the first row\n",
    "print(row1)\n",
    "\n",
    "column1 = tensor[:, 0]  # selects the first column\n",
    "print(column1)\n",
    "\n",
    "row_2_and_4 = tensor[1::2]  # selects second and fourth row\n",
    "print(row_2_and_4)\n",
    "\n",
    "column_1_in_row_2_and_3 = tensor[1:3, 0]\n",
    "print(column_1_in_row_2_and_3)\n"
   ]
  },
  {
   "cell_type": "code",
   "execution_count": 74,
   "id": "4347c02e",
   "metadata": {},
   "outputs": [
    {
     "name": "stdout",
     "output_type": "stream",
     "text": [
      "Third element of the first row: 3\n",
      "First row: [1 2 3 4 5]\n",
      "First column: [ 1  6 11 16]\n",
      "Second and fourth row:\n",
      " [[ 6  7  8  9 10]\n",
      " [16 17 18 19 20]]\n",
      "First column in row second and fourth: [ 6 11]\n"
     ]
    }
   ],
   "source": [
    "## Better way of printing and readable\n",
    "print(f\"Third element of the first row: {three}\")\n",
    "print(f\"First row: {row1}\")\n",
    "print(f\"First column: {column1}\")\n",
    "print(f\"Second and fourth row:\\n {row_2_and_4}\")\n",
    "print(f\"First column in row second and fourth: {column_1_in_row_2_and_3}\")"
   ]
  },
  {
   "cell_type": "code",
   "execution_count": null,
   "id": "f85aa728",
   "metadata": {},
   "outputs": [],
   "source": []
  }
 ],
 "metadata": {
  "kernelspec": {
   "display_name": "python_3.10",
   "language": "python",
   "name": "python_3.10"
  },
  "language_info": {
   "codemirror_mode": {
    "name": "ipython",
    "version": 3
   },
   "file_extension": ".py",
   "mimetype": "text/x-python",
   "name": "python",
   "nbconvert_exporter": "python",
   "pygments_lexer": "ipython3",
   "version": "3.10.11"
  }
 },
 "nbformat": 4,
 "nbformat_minor": 5
}
